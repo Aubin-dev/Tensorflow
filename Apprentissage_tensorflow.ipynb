{
  "nbformat": 4,
  "nbformat_minor": 0,
  "metadata": {
    "colab": {
      "provenance": [],
      "collapsed_sections": [],
      "authorship_tag": "ABX9TyNieGR7s/8OFQnWkOjNGnn6",
      "include_colab_link": true
    },
    "kernelspec": {
      "name": "python3",
      "display_name": "Python 3"
    },
    "language_info": {
      "name": "python"
    }
  },
  "cells": [
    {
      "cell_type": "markdown",
      "metadata": {
        "id": "view-in-github",
        "colab_type": "text"
      },
      "source": [
        "<a href=\"https://colab.research.google.com/github/Aubin-dev/Tensorflow/blob/main/Apprentissage_tensorflow.ipynb\" target=\"_parent\"><img src=\"https://colab.research.google.com/assets/colab-badge.svg\" alt=\"Open In Colab\"/></a>"
      ]
    },
    {
      "cell_type": "code",
      "source": [
        "!pip install tensorflow"
      ],
      "metadata": {
        "colab": {
          "base_uri": "https://localhost:8080/"
        },
        "id": "VNPYKkk60D4w",
        "outputId": "72bb0ba9-0812-4d24-af32-4cf6d6891e8f"
      },
      "execution_count": null,
      "outputs": [
        {
          "output_type": "stream",
          "name": "stdout",
          "text": [
            "Looking in indexes: https://pypi.org/simple, https://us-python.pkg.dev/colab-wheels/public/simple/\n",
            "Requirement already satisfied: tensorflow in /usr/local/lib/python3.7/dist-packages (2.0.0)\n",
            "Requirement already satisfied: keras-applications>=1.0.8 in /usr/local/lib/python3.7/dist-packages (from tensorflow) (1.0.8)\n",
            "Requirement already satisfied: tensorboard<2.1.0,>=2.0.0 in /usr/local/lib/python3.7/dist-packages (from tensorflow) (2.0.2)\n",
            "Requirement already satisfied: tensorflow-estimator<2.1.0,>=2.0.0 in /usr/local/lib/python3.7/dist-packages (from tensorflow) (2.0.1)\n",
            "Requirement already satisfied: opt-einsum>=2.3.2 in /usr/local/lib/python3.7/dist-packages (from tensorflow) (3.3.0)\n",
            "Requirement already satisfied: wheel>=0.26 in /usr/local/lib/python3.7/dist-packages (from tensorflow) (0.38.1)\n",
            "Requirement already satisfied: termcolor>=1.1.0 in /usr/local/lib/python3.7/dist-packages (from tensorflow) (2.1.0)\n",
            "Requirement already satisfied: wrapt>=1.11.1 in /usr/local/lib/python3.7/dist-packages (from tensorflow) (1.14.1)\n",
            "Requirement already satisfied: google-pasta>=0.1.6 in /usr/local/lib/python3.7/dist-packages (from tensorflow) (0.2.0)\n",
            "Requirement already satisfied: grpcio>=1.8.6 in /usr/local/lib/python3.7/dist-packages (from tensorflow) (1.50.0)\n",
            "Requirement already satisfied: numpy<2.0,>=1.16.0 in /usr/local/lib/python3.7/dist-packages (from tensorflow) (1.21.6)\n",
            "Requirement already satisfied: gast==0.2.2 in /usr/local/lib/python3.7/dist-packages (from tensorflow) (0.2.2)\n",
            "Requirement already satisfied: keras-preprocessing>=1.0.5 in /usr/local/lib/python3.7/dist-packages (from tensorflow) (1.1.2)\n",
            "Requirement already satisfied: absl-py>=0.7.0 in /usr/local/lib/python3.7/dist-packages (from tensorflow) (1.3.0)\n",
            "Requirement already satisfied: six>=1.10.0 in /usr/local/lib/python3.7/dist-packages (from tensorflow) (1.15.0)\n",
            "Requirement already satisfied: astor>=0.6.0 in /usr/local/lib/python3.7/dist-packages (from tensorflow) (0.8.1)\n",
            "Requirement already satisfied: protobuf>=3.6.1 in /usr/local/lib/python3.7/dist-packages (from tensorflow) (3.17.3)\n",
            "Requirement already satisfied: h5py in /usr/local/lib/python3.7/dist-packages (from keras-applications>=1.0.8->tensorflow) (3.1.0)\n",
            "Requirement already satisfied: requests<3,>=2.21.0 in /usr/local/lib/python3.7/dist-packages (from tensorboard<2.1.0,>=2.0.0->tensorflow) (2.23.0)\n",
            "Requirement already satisfied: werkzeug>=0.11.15 in /usr/local/lib/python3.7/dist-packages (from tensorboard<2.1.0,>=2.0.0->tensorflow) (1.0.1)\n",
            "Requirement already satisfied: markdown>=2.6.8 in /usr/local/lib/python3.7/dist-packages (from tensorboard<2.1.0,>=2.0.0->tensorflow) (3.4.1)\n",
            "Requirement already satisfied: setuptools>=41.0.0 in /usr/local/lib/python3.7/dist-packages (from tensorboard<2.1.0,>=2.0.0->tensorflow) (57.4.0)\n",
            "Requirement already satisfied: google-auth<2,>=1.6.3 in /usr/local/lib/python3.7/dist-packages (from tensorboard<2.1.0,>=2.0.0->tensorflow) (1.35.0)\n",
            "Requirement already satisfied: google-auth-oauthlib<0.5,>=0.4.1 in /usr/local/lib/python3.7/dist-packages (from tensorboard<2.1.0,>=2.0.0->tensorflow) (0.4.6)\n",
            "Requirement already satisfied: rsa<5,>=3.1.4 in /usr/local/lib/python3.7/dist-packages (from google-auth<2,>=1.6.3->tensorboard<2.1.0,>=2.0.0->tensorflow) (4.9)\n",
            "Requirement already satisfied: pyasn1-modules>=0.2.1 in /usr/local/lib/python3.7/dist-packages (from google-auth<2,>=1.6.3->tensorboard<2.1.0,>=2.0.0->tensorflow) (0.2.8)\n",
            "Requirement already satisfied: cachetools<5.0,>=2.0.0 in /usr/local/lib/python3.7/dist-packages (from google-auth<2,>=1.6.3->tensorboard<2.1.0,>=2.0.0->tensorflow) (4.2.4)\n",
            "Requirement already satisfied: requests-oauthlib>=0.7.0 in /usr/local/lib/python3.7/dist-packages (from google-auth-oauthlib<0.5,>=0.4.1->tensorboard<2.1.0,>=2.0.0->tensorflow) (1.3.1)\n",
            "Requirement already satisfied: importlib-metadata>=4.4 in /usr/local/lib/python3.7/dist-packages (from markdown>=2.6.8->tensorboard<2.1.0,>=2.0.0->tensorflow) (4.13.0)\n",
            "Requirement already satisfied: zipp>=0.5 in /usr/local/lib/python3.7/dist-packages (from importlib-metadata>=4.4->markdown>=2.6.8->tensorboard<2.1.0,>=2.0.0->tensorflow) (3.10.0)\n",
            "Requirement already satisfied: typing-extensions>=3.6.4 in /usr/local/lib/python3.7/dist-packages (from importlib-metadata>=4.4->markdown>=2.6.8->tensorboard<2.1.0,>=2.0.0->tensorflow) (4.1.1)\n",
            "Requirement already satisfied: pyasn1<0.5.0,>=0.4.6 in /usr/local/lib/python3.7/dist-packages (from pyasn1-modules>=0.2.1->google-auth<2,>=1.6.3->tensorboard<2.1.0,>=2.0.0->tensorflow) (0.4.8)\n",
            "Requirement already satisfied: chardet<4,>=3.0.2 in /usr/local/lib/python3.7/dist-packages (from requests<3,>=2.21.0->tensorboard<2.1.0,>=2.0.0->tensorflow) (3.0.4)\n",
            "Requirement already satisfied: urllib3!=1.25.0,!=1.25.1,<1.26,>=1.21.1 in /usr/local/lib/python3.7/dist-packages (from requests<3,>=2.21.0->tensorboard<2.1.0,>=2.0.0->tensorflow) (1.24.3)\n",
            "Requirement already satisfied: idna<3,>=2.5 in /usr/local/lib/python3.7/dist-packages (from requests<3,>=2.21.0->tensorboard<2.1.0,>=2.0.0->tensorflow) (2.10)\n",
            "Requirement already satisfied: certifi>=2017.4.17 in /usr/local/lib/python3.7/dist-packages (from requests<3,>=2.21.0->tensorboard<2.1.0,>=2.0.0->tensorflow) (2022.9.24)\n",
            "Requirement already satisfied: oauthlib>=3.0.0 in /usr/local/lib/python3.7/dist-packages (from requests-oauthlib>=0.7.0->google-auth-oauthlib<0.5,>=0.4.1->tensorboard<2.1.0,>=2.0.0->tensorflow) (3.2.2)\n",
            "Requirement already satisfied: cached-property in /usr/local/lib/python3.7/dist-packages (from h5py->keras-applications>=1.0.8->tensorflow) (1.5.2)\n"
          ]
        }
      ]
    },
    {
      "cell_type": "code",
      "execution_count": null,
      "metadata": {
        "id": "X8cqZUtGnVn7"
      },
      "outputs": [],
      "source": [
        "import tensorflow as tf"
      ]
    },
    {
      "cell_type": "code",
      "source": [
        "# define a matrix and a vector\n",
        "matrix = tf.constant([[1., 1.], [2., 3.]])\n",
        "vector = tf.constant([[4.], [5.]])\n",
        "\n",
        "# define the operation we want to perform\n",
        "matvec = tf.matmul(matrix, vector)\n",
        "avg = tf.reduce_mean(matvec)\n",
        "\n",
        "with tf.compat.v1.Session() as sess:\n",
        "  output = sess.run(matvec)\n",
        "  print(output)"
      ],
      "metadata": {
        "colab": {
          "base_uri": "https://localhost:8080/"
        },
        "id": "ngLL2WFmnbAJ",
        "outputId": "ae7b35e5-44df-40f1-ac68-5a4d7c8cf35e"
      },
      "execution_count": null,
      "outputs": [
        {
          "output_type": "stream",
          "name": "stdout",
          "text": [
            "[[ 9.]\n",
            " [23.]]\n"
          ]
        }
      ]
    },
    {
      "cell_type": "code",
      "source": [
        "avg = tf.reduce_mean(matvec)\n",
        "with tf.compat.v1.Session() as sess:\n",
        "  out= sess.run(avg)\n",
        "  print(out)"
      ],
      "metadata": {
        "colab": {
          "base_uri": "https://localhost:8080/"
        },
        "id": "Yz1wODfFoTfv",
        "outputId": "4db5966a-5ff3-4c00-81e5-b5c1b217d354"
      },
      "execution_count": null,
      "outputs": [
        {
          "output_type": "stream",
          "name": "stdout",
          "text": [
            "16.0\n"
          ]
        }
      ]
    },
    {
      "cell_type": "code",
      "source": [
        "# define a matrix and a vector\n",
        "matrix = tf.constant([[1., 1.], [2., 3.]], name=\"matrix\")\n",
        "vector = tf.constant([[4.], [5.]], name=\"vector\")\n",
        "\n",
        "# define the operations \n",
        "matvec = tf.matmul(matrix, vector, name=\"mult\")\n",
        "avg = tf.reduce_mean(matvec, name=\"mean\")\n",
        "\n",
        "# create a session (automatically closed)\n",
        "with tf.compat.v1.Session() as sess:\n",
        "\n",
        "\t# write graph to disk\n",
        "\twriter =tf.compat.v1.summary.FileWriter(\"example\", sess.graph)\n",
        "\t# execute the operation and get the result\n",
        "\toutput = sess.run(avg)\n",
        "\n",
        "\t# print the result\n",
        "\tprint(output)\n"
      ],
      "metadata": {
        "colab": {
          "base_uri": "https://localhost:8080/"
        },
        "id": "OGMRDvYcre2K",
        "outputId": "39de1492-d5b0-4872-edd3-3af9f6c6d992"
      },
      "execution_count": null,
      "outputs": [
        {
          "output_type": "stream",
          "name": "stdout",
          "text": [
            "16.0\n"
          ]
        }
      ]
    },
    {
      "cell_type": "code",
      "source": [
        "# define a matrix and a vector\n",
        "matrix = tf.constant([[1., 1.], [2., 3.]], name=\"matrix\")\n",
        "vector = tf.constant([[4.], [5.]], name=\"vector\")\n",
        "\n",
        "# define the operations \n",
        "matvec = tf.matmul(matrix, vector, name=\"mult\")\n",
        "avg = tf.reduce_mean(matvec, name=\"mean\")\n",
        "\n",
        "# create a session (automatically closed)\n",
        "with tf.compat.v1.Session() as sess:\n",
        "\n",
        "\t# write graph to disk\n",
        "\twriter = tf.compat.v1.summary.FileWriter('example', sess.graph)\n",
        "\n",
        "\t# execute the operation and get the result\n",
        "\toutput1, output2 = sess.run([matvec,avg])\n",
        "\n",
        "\t# print the result\n",
        "\tprint(output1)\n",
        "\tprint(output2)\n",
        "\n"
      ],
      "metadata": {
        "colab": {
          "base_uri": "https://localhost:8080/"
        },
        "id": "u6E-iDkVvGFk",
        "outputId": "68b338d8-8f91-4522-db98-5808ffc09317"
      },
      "execution_count": null,
      "outputs": [
        {
          "output_type": "stream",
          "name": "stdout",
          "text": [
            "[[ 9.]\n",
            " [23.]]\n",
            "16.0\n"
          ]
        }
      ]
    },
    {
      "cell_type": "code",
      "source": [
        "# a list of 3 vectors (actually each vector is a 2x1 matrix)\n",
        "O = [[[2.3],[1.1]], [[-6.],[-3.4]], [[4.],[1.]]]\n",
        "\n",
        "matrix = tf.constant([[1., 1.], [2., 3.]])\n",
        "offset = tf.compat.v1.placeholder(tf.float32, shape=(2,1))\n",
        "vector = tf.Variable([[4.], [5.]])\n",
        "\n",
        "matvec = tf.matmul(matrix, vector) \n",
        "vector_with_offset = tf.add(vector, offset)\n",
        "updated_vector = tf.compat.v1.assign(vector, vector_with_offset) \n",
        "\n",
        "with tf.compat.v1.Session() as sess:\n",
        "\tsess.run(tf.compat.v1.global_variables_initializer())\n",
        "\n",
        "\tfor i in range(0, len(O)):\n",
        "\n",
        "\t\t# updating the value of vector, \n",
        "\t\t# using the i-th vector of O as offset\n",
        "\t\tsess.run(updated_vector, feed_dict={offset: O[i]})\n",
        "\n",
        "\t\t# running the multiplication (and evaluating vector)\n",
        "\t\toutput1, output2 = sess.run([vector, matvec])\n",
        "\n",
        "\t\tprint(\"* Offset: \" + str(O[i]))\n",
        "\t\tprint(output1)\n",
        "\t\tprint(output2)\n"
      ],
      "metadata": {
        "colab": {
          "base_uri": "https://localhost:8080/"
        },
        "id": "1iikt--B3bs_",
        "outputId": "8f05ad14-4677-4a99-c565-24114aae87fd"
      },
      "execution_count": null,
      "outputs": [
        {
          "output_type": "stream",
          "name": "stdout",
          "text": [
            "* Offset: [[2.3], [1.1]]\n",
            "[[6.3]\n",
            " [6.1]]\n",
            "[[12.4]\n",
            " [30.9]]\n",
            "* Offset: [[-6.0], [-3.4]]\n",
            "[[0.3000002]\n",
            " [2.6999998]]\n",
            "[[3. ]\n",
            " [8.7]]\n",
            "* Offset: [[4.0], [1.0]]\n",
            "[[4.3      ]\n",
            " [3.6999998]]\n",
            "[[ 8. ]\n",
            " [19.7]]\n"
          ]
        }
      ]
    },
    {
      "cell_type": "code",
      "source": [],
      "metadata": {
        "id": "_FjAHufc3_fq"
      },
      "execution_count": null,
      "outputs": []
    }
  ]
}